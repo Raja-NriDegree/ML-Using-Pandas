{
  "nbformat": 4,
  "nbformat_minor": 0,
  "metadata": {
    "colab": {
      "provenance": [],
      "authorship_tag": "ABX9TyPu+DPruJhgIFXLrhTgfUq5",
      "include_colab_link": true
    },
    "kernelspec": {
      "name": "python3",
      "display_name": "Python 3"
    },
    "language_info": {
      "name": "python"
    }
  },
  "cells": [
    {
      "cell_type": "markdown",
      "metadata": {
        "id": "view-in-github",
        "colab_type": "text"
      },
      "source": [
        "<a href=\"https://colab.research.google.com/github/Raja-NriDegree/ML-Using-Pandas/blob/main/transactions.ipynb\" target=\"_parent\"><img src=\"https://colab.research.google.com/assets/colab-badge.svg\" alt=\"Open In Colab\"/></a>"
      ]
    },
    {
      "cell_type": "code",
      "source": [
        "import random"
      ],
      "metadata": {
        "id": "GlHiW0uR4xjW"
      },
      "execution_count": 15,
      "outputs": []
    },
    {
      "cell_type": "code",
      "source": [
        "from google.colab import drive\n",
        "drive.mount('/content/drive')"
      ],
      "metadata": {
        "colab": {
          "base_uri": "https://localhost:8080/"
        },
        "id": "nRufW9Mj4zgq",
        "outputId": "334612f6-d363-4aa5-9388-6af7e0590438"
      },
      "execution_count": 19,
      "outputs": [
        {
          "output_type": "stream",
          "name": "stdout",
          "text": [
            "Mounted at /content/drive\n"
          ]
        }
      ]
    },
    {
      "cell_type": "code",
      "execution_count": 20,
      "metadata": {
        "id": "3XHSfHs51BZo"
      },
      "outputs": [],
      "source": [
        "import pandas as pd"
      ]
    },
    {
      "cell_type": "code",
      "source": [
        "import io\n",
        "\n",
        "data = \"\"\"TransactionID,TransactionDate,StoreID,CustomerID,ProductID,ProductCategory,Quantity,Price,PaymentType,Discount\n",
        "T001,2024-01-01,102,1646,545,Electronics,1,150,Credit,15.0\n",
        "T002,2024-01-02,103,1226,542,Toys,2,317,Debit,10.0\n",
        "T003,2024-01-03,102,1515,593,Electronics,5,165,Debit,\n",
        "T004,2024-01-04,103,1793,560,Furniture,6,496,Debit,10.0\n",
        "T005,2024-01-05,105,1864,523,Grocery,10,166,Debit,0.0\n",
        "T006,2024-01-06,103,1836,515,Grocery,9,227,Debit,\n",
        "T007,2024-01-07,103,1983,586,Electronics,1,170,Credit,\n",
        "T008,2024-01-08,101,1806,569,Toys,4,500,Debit,0.0\n",
        "T009,2024-01-09,101,1925,548,Apparel,7,217,Cash,10.0\n",
        "T010,2024-01-10,101,1711,565,Furniture,3,466,Debit,5.0\n",
        "T011,2024-01-11,103,1276,565,Furniture,1,321,Cash,\n",
        "T012,2024-01-12,101,1486,523,Toys,8,426,Credit,5.0\n",
        "T013,2024-01-13,103,1597,516,Toys,5,262,Cash,15.0\n",
        "T014,2024-01-14,101,1462,520,Electronics,10,218,Cash,\n",
        "T015,2024-01-15,104,1668,581,Toys,4,201,Debit,15.0\n",
        "T016,2024-01-16,101,1278,594,Toys,8,416,Credit,0.0\n",
        "T017,2024-01-17,101,1522,502,Furniture,6,190,Debit,10.0\n",
        "T018,2024-01-18,102,1199,565,Apparel,6,495,Credit,0.0\n",
        "T019,2024-01-19,101,1734,599,Apparel,9,55,Debit,0.0\n",
        "T020,2024-01-20,101,1724,583,Furniture,3,447,Credit,\n",
        "T021,2024-01-21,104,1453,595,Electronics,1,108,Debit,10.0\n",
        "T022,2024-01-22,102,1326,544,Furniture,8,224,Debit,10.0\n",
        "T023,2024-01-23,103,1797,585,Apparel,7,201,Credit,15.0\n",
        "T024,2024-01-24,104,1436,582,Furniture,3,162,Debit,5.0\n",
        "T025,2024-01-25,103,1928,578,Toys,2,185,Cash,0.0\n",
        "T026,2024-01-26,104,1913,526,Toys,6,360,Debit,5.0\n",
        "T027,2024-01-27,101,1190,568,Furniture,5,90,Cash,5.0\n",
        "T028,2024-01-28,104,1911,544,Apparel,4,250,Debit,5.0\n",
        "T029,2024-01-29,105,1838,589,Electronics,7,109,Debit,\n",
        "T030,2024-01-30,105,1432,555,Apparel,9,449,Credit,15.0\n",
        "T031,2024-01-31,101,1922,576,Toys,2,333,Cash,0.0\n",
        "T032,2024-02-01,104,1807,514,Grocery,3,289,Credit,\n",
        "T033,2024-02-02,101,1396,507,Toys,8,424,Debit,\n",
        "T034,2024-02-03,104,1559,592,Furniture,9,480,Debit,\n",
        "T035,2024-02-04,101,1135,536,Electronics,1,157,Credit,0.0\n",
        "T036,2024-02-05,104,1950,530,Electronics,9,278,Credit,10.0\n",
        "T037,2024-02-06,103,1922,523,Apparel,3,111,Credit,5.0\n",
        "T038,2024-02-07,102,1311,552,Apparel,6,232,Credit,\n",
        "T039,2024-02-08,102,1713,531,Toys,4,408,Cash,5.0\n",
        "T040,2024-02-09,102,1082,518,Toys,5,315,Debit,\n",
        "T041,2024-02-10,102,1388,577,Apparel,6,243,Cash,\n",
        "T042,2024-02-11,104,1669,547,Furniture,9,422,Credit,\n",
        "T043,2024-02-12,101,1206,506,Toys,9,175,Credit,15.0\n",
        "T044,2024-02-13,103,1799,593,Electronics,1,120,Cash,\n",
        "T045,2024-02-14,101,1245,565,Furniture,9,379,Credit,5.0\n",
        "T046,2024-02-15,105,1978,585,Furniture,6,345,Cash,15.0\n",
        "T047,2024-02-16,103,1532,536,Furniture,10,449,Debit,\n",
        "T048,2024-02-17,103,1385,599,Toys,3,495,Credit,0.0\n",
        "T049,2024-02-18,105,1897,529,Grocery,10,438,Cash,15.0\n",
        "T050,2024-02-19,105,1820,567,Electronics,8,483,Credit,\n",
        "T051,2024-02-20,103,1832,551,Furniture,1,465,Cash,10.0\n",
        "T052,2024-02-21,101,1465,523,Apparel,5,348,Debit,10.0\n",
        "T053,2024-02-22,104,1700,563,Grocery,1,124,Credit,\n",
        "T054,2024-02-23,105,1293,579,Toys,8,402,Cash,0.0\n",
        "T055,2024-02-24,105,1274,538,Grocery,10,298,Cash,15.0\n",
        "T056,2024-02-25,105,1263,549,Apparel,6,166,Cash,0.0\n",
        "T057,2024-02-26,105,1734,509,Toys,10,488,Cash,\n",
        "T058,2024-02-27,105,1176,526,Furniture,2,312,Debit,5.0\n",
        "T059,2024-02-28,102,1536,546,Electronics,5,50,Credit,0.0\n",
        "T060,2024-02-29,102,1461,600,Apparel,9,64,Debit,15.0\n",
        "T061,2024-03-01,102,1195,574,Toys,4,403,Cash,15.0\n",
        "T062,2024-03-02,101,1539,534,Furniture,5,211,Debit,10.0\n",
        "T063,2024-03-03,102,1758,598,Toys,1,444,Credit,10.0\n",
        "T064,2024-03-04,104,1169,571,Furniture,5,328,Cash,10.0\n",
        "T065,2024-03-05,104,1194,561,Furniture,1,89,Credit,10.0\n",
        "T066,2024-03-06,102,1400,585,Furniture,9,391,Debit,\n",
        "T067,2024-03-07,103,1308,523,Apparel,7,60,Cash,0.0\n",
        "T068,2024-03-08,101,1740,552,Toys,5,275,Credit,10.0\n",
        "T069,2024-03-09,102,1329,546,Grocery,1,191,Debit,10.0\n",
        "T070,2024-03-10,105,1954,516,Grocery,9,109,Credit,0.0\n",
        "T071,2024-03-11,104,1013,501,Furniture,1,390,Debit,\n",
        "T072,2024-03-12,104,1236,587,Apparel,1,494,Debit,0.0\n",
        "T073,2024-03-13,103,1798,530,Furniture,2,59,Cash,0.0\n",
        "T074,2024-03-14,101,1312,560,Toys,9,498,Debit,15.0\n",
        "T075,2024-03-15,102,1585,587,Toys,10,125,Credit,10.0\n",
        "T076,2024-03-16,101,1307,511,Furniture,1,361,Debit,\n",
        "T077,2024-03-17,101,1570,507,Apparel,6,170,Debit,5.0\n",
        "T078,2024-03-18,103,1161,590,Toys,8,369,Credit,10.0\n",
        "T079,2024-03-19,101,1821,575,Apparel,6,480,Debit,0.0\n",
        "T080,2024-03-20,101,1723,581,Furniture,10,220,Debit,15.0\n",
        "T081,2024-03-21,103,1245,525,Grocery,1,320,Cash,5.0\n",
        "T082,2024-03-22,104,1512,598,Furniture,3,62,Cash,5.0\n",
        "T083,2024-03-23,105,1631,548,Apparel,6,485,Cash,5.0\n",
        "T084,2024-03-24,102,1462,598,Electronics,6,120,Cash,15.0\n",
        "T085,2024-03-25,105,1326,553,Grocery,9,149,Debit,0.0\n",
        "T086,2024-03-26,103,1396,541,Grocery,4,375,Credit,10.0\n",
        "T087,2024-03-27,101,1202,551,Toys,8,152,Cash,15.0\n",
        "T088,2024-03-28,103,1321,585,Grocery,2,72,Debit,15.0\n",
        "T089,2024-03-29,102,1946,542,Toys,3,282,Credit,\n",
        "T090,2024-03-30,103,1482,572,Furniture,2,179,Debit,\n",
        "T091,2024-03-31,103,1853,565,Furniture,10,299,Cash,15.0\n",
        "T092,2024-04-01,104,1825,537,Grocery,6,415,Cash,5.0\n",
        "T093,2024-04-02,102,1408,519,Toys,1,433,Cash,10.0\n",
        "T094,2024-04-03,102,1699,557,Electronics,7,192,Debit,15.0\n",
        "T095,2024-04-04,103,1980,529,Electronics,7,309,Cash,\n",
        "T096,2024-04-05,101,1918,559,Apparel,2,439,Cash,10.0\n",
        "T097,2024-04-06,104,1190,579,Electronics,4,52,Debit,0.0\n",
        "T098,2024-04-07,102,1932,504,Apparel,7,151,Credit,10.0\n",
        "T099,2024-04-08,103,1285,587,Apparel,5,479,Credit,10.0\n",
        "T100,2024-04-09,101,1602,574,Electronics,5,247,Credit,15.0\n",
        "\"\"\"\n"
      ],
      "metadata": {
        "id": "JGKBeQlY3r_t"
      },
      "execution_count": 31,
      "outputs": []
    },
    {
      "cell_type": "code",
      "source": [
        "df = pd.read_csv(io.StringIO(data))"
      ],
      "metadata": {
        "id": "AotOfaej4Au5"
      },
      "execution_count": 6,
      "outputs": []
    },
    {
      "cell_type": "code",
      "source": [
        "df['Discount'] = df['Discount'].fillna(0)\n"
      ],
      "metadata": {
        "id": "M9oHFUQp4Isr"
      },
      "execution_count": 37,
      "outputs": []
    },
    {
      "cell_type": "code",
      "source": [
        "df.Discount"
      ],
      "metadata": {
        "colab": {
          "base_uri": "https://localhost:8080/",
          "height": 458
        },
        "id": "kLrU2kYR4NU6",
        "outputId": "c8ce4f19-33e1-4bed-c03f-dfb4380066d0"
      },
      "execution_count": 8,
      "outputs": [
        {
          "output_type": "execute_result",
          "data": {
            "text/plain": [
              "0     15.0\n",
              "1     10.0\n",
              "2      0.0\n",
              "3     10.0\n",
              "4      0.0\n",
              "      ... \n",
              "95    10.0\n",
              "96     0.0\n",
              "97    10.0\n",
              "98    10.0\n",
              "99    15.0\n",
              "Name: Discount, Length: 100, dtype: float64"
            ],
            "text/html": [
              "<div>\n",
              "<style scoped>\n",
              "    .dataframe tbody tr th:only-of-type {\n",
              "        vertical-align: middle;\n",
              "    }\n",
              "\n",
              "    .dataframe tbody tr th {\n",
              "        vertical-align: top;\n",
              "    }\n",
              "\n",
              "    .dataframe thead th {\n",
              "        text-align: right;\n",
              "    }\n",
              "</style>\n",
              "<table border=\"1\" class=\"dataframe\">\n",
              "  <thead>\n",
              "    <tr style=\"text-align: right;\">\n",
              "      <th></th>\n",
              "      <th>Discount</th>\n",
              "    </tr>\n",
              "  </thead>\n",
              "  <tbody>\n",
              "    <tr>\n",
              "      <th>0</th>\n",
              "      <td>15.0</td>\n",
              "    </tr>\n",
              "    <tr>\n",
              "      <th>1</th>\n",
              "      <td>10.0</td>\n",
              "    </tr>\n",
              "    <tr>\n",
              "      <th>2</th>\n",
              "      <td>0.0</td>\n",
              "    </tr>\n",
              "    <tr>\n",
              "      <th>3</th>\n",
              "      <td>10.0</td>\n",
              "    </tr>\n",
              "    <tr>\n",
              "      <th>4</th>\n",
              "      <td>0.0</td>\n",
              "    </tr>\n",
              "    <tr>\n",
              "      <th>...</th>\n",
              "      <td>...</td>\n",
              "    </tr>\n",
              "    <tr>\n",
              "      <th>95</th>\n",
              "      <td>10.0</td>\n",
              "    </tr>\n",
              "    <tr>\n",
              "      <th>96</th>\n",
              "      <td>0.0</td>\n",
              "    </tr>\n",
              "    <tr>\n",
              "      <th>97</th>\n",
              "      <td>10.0</td>\n",
              "    </tr>\n",
              "    <tr>\n",
              "      <th>98</th>\n",
              "      <td>10.0</td>\n",
              "    </tr>\n",
              "    <tr>\n",
              "      <th>99</th>\n",
              "      <td>15.0</td>\n",
              "    </tr>\n",
              "  </tbody>\n",
              "</table>\n",
              "<p>100 rows × 1 columns</p>\n",
              "</div><br><label><b>dtype:</b> float64</label>"
            ]
          },
          "metadata": {},
          "execution_count": 8
        }
      ]
    },
    {
      "cell_type": "code",
      "source": [
        "df['Discount'] = pd.to_numeric(df['Discount'])"
      ],
      "metadata": {
        "id": "c8SgkSOT4TMw"
      },
      "execution_count": 9,
      "outputs": []
    },
    {
      "cell_type": "code",
      "source": [
        "df.Discount"
      ],
      "metadata": {
        "colab": {
          "base_uri": "https://localhost:8080/",
          "height": 458
        },
        "id": "UK4_PEpE7pA3",
        "outputId": "bcb8c76f-3435-41a9-f922-0e4b0d17c748"
      },
      "execution_count": 33,
      "outputs": [
        {
          "output_type": "execute_result",
          "data": {
            "text/plain": [
              "0     15.0\n",
              "1     10.0\n",
              "2      0.0\n",
              "3     10.0\n",
              "4      0.0\n",
              "      ... \n",
              "95    10.0\n",
              "96     0.0\n",
              "97    10.0\n",
              "98    10.0\n",
              "99    15.0\n",
              "Name: Discount, Length: 100, dtype: float64"
            ],
            "text/html": [
              "<div>\n",
              "<style scoped>\n",
              "    .dataframe tbody tr th:only-of-type {\n",
              "        vertical-align: middle;\n",
              "    }\n",
              "\n",
              "    .dataframe tbody tr th {\n",
              "        vertical-align: top;\n",
              "    }\n",
              "\n",
              "    .dataframe thead th {\n",
              "        text-align: right;\n",
              "    }\n",
              "</style>\n",
              "<table border=\"1\" class=\"dataframe\">\n",
              "  <thead>\n",
              "    <tr style=\"text-align: right;\">\n",
              "      <th></th>\n",
              "      <th>Discount</th>\n",
              "    </tr>\n",
              "  </thead>\n",
              "  <tbody>\n",
              "    <tr>\n",
              "      <th>0</th>\n",
              "      <td>15.0</td>\n",
              "    </tr>\n",
              "    <tr>\n",
              "      <th>1</th>\n",
              "      <td>10.0</td>\n",
              "    </tr>\n",
              "    <tr>\n",
              "      <th>2</th>\n",
              "      <td>0.0</td>\n",
              "    </tr>\n",
              "    <tr>\n",
              "      <th>3</th>\n",
              "      <td>10.0</td>\n",
              "    </tr>\n",
              "    <tr>\n",
              "      <th>4</th>\n",
              "      <td>0.0</td>\n",
              "    </tr>\n",
              "    <tr>\n",
              "      <th>...</th>\n",
              "      <td>...</td>\n",
              "    </tr>\n",
              "    <tr>\n",
              "      <th>95</th>\n",
              "      <td>10.0</td>\n",
              "    </tr>\n",
              "    <tr>\n",
              "      <th>96</th>\n",
              "      <td>0.0</td>\n",
              "    </tr>\n",
              "    <tr>\n",
              "      <th>97</th>\n",
              "      <td>10.0</td>\n",
              "    </tr>\n",
              "    <tr>\n",
              "      <th>98</th>\n",
              "      <td>10.0</td>\n",
              "    </tr>\n",
              "    <tr>\n",
              "      <th>99</th>\n",
              "      <td>15.0</td>\n",
              "    </tr>\n",
              "  </tbody>\n",
              "</table>\n",
              "<p>100 rows × 1 columns</p>\n",
              "</div><br><label><b>dtype:</b> float64</label>"
            ]
          },
          "metadata": {},
          "execution_count": 33
        }
      ]
    },
    {
      "cell_type": "code",
      "source": [
        "df['Revenue'] = df['Quantity'] * df['Price'] * (1 - df['Discount'] / 100)\n",
        "total_revenue = df['Revenue'].sum()\n",
        "print(f\"Total Revenue: ₹{total_revenue:}\")"
      ],
      "metadata": {
        "colab": {
          "base_uri": "https://localhost:8080/"
        },
        "id": "7xHHbRNn4Wek",
        "outputId": "353a3b3c-4581-4387-9f55-ecdd61e032cc"
      },
      "execution_count": 34,
      "outputs": [
        {
          "output_type": "stream",
          "name": "stdout",
          "text": [
            "Total Revenue: ₹145603.69999999998\n"
          ]
        }
      ]
    },
    {
      "cell_type": "code",
      "source": [
        "most_frequent_product = df['ProductID'].value_counts()\n",
        "print(f\"Most Frequently Purchased Product: {most_frequent_product}\")"
      ],
      "metadata": {
        "colab": {
          "base_uri": "https://localhost:8080/"
        },
        "id": "ZBQDJvk44buO",
        "outputId": "690307e4-0a81-4081-eefb-626a4e626da0"
      },
      "execution_count": 21,
      "outputs": [
        {
          "output_type": "stream",
          "name": "stdout",
          "text": [
            "Most Frequently Purchased Product: ProductID\n",
            "523    5\n",
            "565    5\n",
            "585    4\n",
            "598    3\n",
            "587    3\n",
            "      ..\n",
            "518    1\n",
            "577    1\n",
            "547    1\n",
            "506    1\n",
            "504    1\n",
            "Name: count, Length: 67, dtype: int64\n"
          ]
        }
      ]
    },
    {
      "cell_type": "code",
      "source": [
        "average_transaction_amount = df['Revenue'].mean()\n",
        "0print(f\"Average Amount of the Transaction is : ₹{average_transaction_amount}\")"
      ],
      "metadata": {
        "colab": {
          "base_uri": "https://localhost:8080/"
        },
        "id": "3PYUs91p4e8n",
        "outputId": "bf918952-74eb-4505-eb72-85acf52c2b50"
      },
      "execution_count": 24,
      "outputs": [
        {
          "output_type": "stream",
          "name": "stdout",
          "text": [
            "Average Amount of the Transaction is : ₹1456.0369999999998\n"
          ]
        }
      ]
    },
    {
      "cell_type": "code",
      "source": [
        "higher_value_transactions = df[df['Revenue'] > 200]\n",
        "print(\"\\nTransactions with Total Amount greater than ₹200:\")\n",
        "print(higher_value_transactions)"
      ],
      "metadata": {
        "colab": {
          "base_uri": "https://localhost:8080/"
        },
        "id": "couhldrW4hp1",
        "outputId": "61c11ce7-3c70-4272-eee7-8fd6bbe0f45f"
      },
      "execution_count": 27,
      "outputs": [
        {
          "output_type": "stream",
          "name": "stdout",
          "text": [
            "\n",
            "Transactions with Total Amount greater than ₹200:\n",
            "   TransactionID TransactionDate  StoreID  CustomerID  ProductID  \\\n",
            "1           T002      2024-01-02      103        1226        542   \n",
            "2           T003      2024-01-03      102        1515        593   \n",
            "3           T004      2024-01-04      103        1793        560   \n",
            "4           T005      2024-01-05      105        1864        523   \n",
            "5           T006      2024-01-06      103        1836        515   \n",
            "..           ...             ...      ...         ...        ...   \n",
            "95          T096      2024-04-05      101        1918        559   \n",
            "96          T097      2024-04-06      104        1190        579   \n",
            "97          T098      2024-04-07      102        1932        504   \n",
            "98          T099      2024-04-08      103        1285        587   \n",
            "99          T100      2024-04-09      101        1602        574   \n",
            "\n",
            "   ProductCategory  Quantity  Price PaymentType  Discount  Revenue  \n",
            "1             Toys         2    317       Debit      10.0   570.60  \n",
            "2      Electronics         5    165       Debit       0.0   825.00  \n",
            "3        Furniture         6    496       Debit      10.0  2678.40  \n",
            "4          Grocery        10    166       Debit       0.0  1660.00  \n",
            "5          Grocery         9    227       Debit       0.0  2043.00  \n",
            "..             ...       ...    ...         ...       ...      ...  \n",
            "95         Apparel         2    439        Cash      10.0   790.20  \n",
            "96     Electronics         4     52       Debit       0.0   208.00  \n",
            "97         Apparel         7    151      Credit      10.0   951.30  \n",
            "98         Apparel         5    479      Credit      10.0  2155.50  \n",
            "99     Electronics         5    247      Credit      15.0  1049.75  \n",
            "\n",
            "[89 rows x 11 columns]\n"
          ]
        }
      ]
    },
    {
      "cell_type": "code",
      "source": [
        "customer_spending = df.groupby('CustomerID')['Revenue'].sum()\n",
        "top_10_customers = customer_spending.nlargest(10)\n",
        "print(\"\\nTop 10 Customers who have spent the most:\")\n",
        "print(top_10_customers)"
      ],
      "metadata": {
        "colab": {
          "base_uri": "https://localhost:8080/"
        },
        "id": "p5fHMLmy4kQI",
        "outputId": "35d730c0-5dbe-4d5c-c3da-42a356b24c23"
      },
      "execution_count": 39,
      "outputs": [
        {
          "output_type": "stream",
          "name": "stdout",
          "text": [
            "\n",
            "Top 10 Customers who have spent the most:\n",
            "CustomerID\n",
            "1734    5375.00\n",
            "1396    4742.00\n",
            "1532    4490.00\n",
            "1559    4320.00\n",
            "1820    3864.00\n",
            "1312    3809.70\n",
            "1669    3798.00\n",
            "1897    3723.00\n",
            "1245    3544.45\n",
            "1400    3519.00\n",
            "Name: Revenue, dtype: float64\n"
          ]
        }
      ]
    },
    {
      "cell_type": "code",
      "source": [
        "from matplotlib import pyplot as plt\n"
      ],
      "metadata": {
        "id": "WqPwhOrb4pak"
      },
      "execution_count": 40,
      "outputs": []
    },
    {
      "cell_type": "code",
      "source": [
        "plt.plot(df['TransactionDate'], df['Revenue'])\n",
        "plt.xlabel('Transaction Date')\n",
        "plt.ylabel('Revenue')\n",
        "plt.title('Revenue Over Time')\n",
        "plt.show()"
      ],
      "metadata": {
        "colab": {
          "base_uri": "https://localhost:8080/",
          "height": 472
        },
        "id": "S2VVg07288jd",
        "outputId": "54104ff5-ac25-4bd9-e558-f617eb7b5054"
      },
      "execution_count": 46,
      "outputs": [
        {
          "output_type": "display_data",
          "data": {
            "text/plain": [
              "<Figure size 640x480 with 1 Axes>"
            ],
            "image/png": "[encoded data removed]"
          },
          "metadata": {}
        }
      ]
    },
    {
      "cell_type": "code",
      "source": [],
      "metadata": {
        "id": "RNB9IdTt9cM0"
      },
      "execution_count": null,
      "outputs": []
    }
  ]
}